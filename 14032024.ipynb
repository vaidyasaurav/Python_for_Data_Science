{
 "cells": [
  {
   "cell_type": "code",
   "execution_count": 1,
   "id": "3d24508c",
   "metadata": {},
   "outputs": [
    {
     "name": "stdout",
     "output_type": "stream",
     "text": [
      "This is sparta\n"
     ]
    }
   ],
   "source": [
    "print(\"This is sparta\")"
   ]
  },
  {
   "cell_type": "code",
   "execution_count": 2,
   "id": "5012fec9",
   "metadata": {},
   "outputs": [
    {
     "data": {
      "text/plain": [
       "int"
      ]
     },
     "execution_count": 2,
     "metadata": {},
     "output_type": "execute_result"
    }
   ],
   "source": [
    "# Variables in Python\n",
    "# int float boolean string are the datatypes in python\n",
    "a = 5\n",
    "type(a)"
   ]
  },
  {
   "cell_type": "code",
   "execution_count": 3,
   "id": "c711ece2",
   "metadata": {},
   "outputs": [
    {
     "data": {
      "text/plain": [
       "float"
      ]
     },
     "execution_count": 3,
     "metadata": {},
     "output_type": "execute_result"
    }
   ],
   "source": [
    "a = 5.5\n",
    "type(a)"
   ]
  },
  {
   "cell_type": "code",
   "execution_count": 6,
   "id": "6e4ccb81",
   "metadata": {},
   "outputs": [
    {
     "data": {
      "text/plain": [
       "str"
      ]
     },
     "execution_count": 6,
     "metadata": {},
     "output_type": "execute_result"
    }
   ],
   "source": [
    "a = \"Student\"\n",
    "type(a)"
   ]
  },
  {
   "cell_type": "code",
   "execution_count": 7,
   "id": "d139c8ee",
   "metadata": {},
   "outputs": [
    {
     "data": {
      "text/plain": [
       "bool"
      ]
     },
     "execution_count": 7,
     "metadata": {},
     "output_type": "execute_result"
    }
   ],
   "source": [
    "a = True\n",
    "type(a)"
   ]
  },
  {
   "cell_type": "code",
   "execution_count": 8,
   "id": "fca3e5a8",
   "metadata": {},
   "outputs": [],
   "source": [
    "# Operators in Python : Relational Arithmatic Logical\n",
    "# Arithmatic : +-*/\n",
    "# Relational : <,>,==,!=\n",
    "# Logical : &,|"
   ]
  },
  {
   "cell_type": "code",
   "execution_count": 9,
   "id": "252bec64",
   "metadata": {},
   "outputs": [],
   "source": [
    "# Python Tokens : Smallest meaningful Component in a program\n",
    "# Keywords Literals Identifiers Operators"
   ]
  },
  {
   "cell_type": "code",
   "execution_count": 10,
   "id": "1da99772",
   "metadata": {},
   "outputs": [],
   "source": [
    "# Keywords : special reserved words: False class Finally Is Return None continue For Lambda Try True def From Nonlocal While and\n",
    "# del Global Not With as elif If Or Yield "
   ]
  },
  {
   "cell_type": "code",
   "execution_count": 11,
   "id": "46f6081a",
   "metadata": {},
   "outputs": [],
   "source": [
    "# Python Identifiers : Names used for variables, functions or objects : Rules : 1No special character except _.2Identifiers are\n",
    "# case sensitive.3First letter cannot be a digit "
   ]
  },
  {
   "cell_type": "code",
   "execution_count": 12,
   "id": "00c91847",
   "metadata": {},
   "outputs": [],
   "source": [
    "# Literals : Lierals are constants in python "
   ]
  },
  {
   "cell_type": "code",
   "execution_count": 13,
   "id": "cd65571c",
   "metadata": {},
   "outputs": [
    {
     "name": "stdout",
     "output_type": "stream",
     "text": [
      "H\n"
     ]
    }
   ],
   "source": [
    "# Python strings\n",
    "# Extracting individual character from string\n",
    "my_string = \"Hello World\"\n",
    "print(my_string[0])"
   ]
  },
  {
   "cell_type": "code",
   "execution_count": 14,
   "id": "a13d10f7",
   "metadata": {},
   "outputs": [
    {
     "name": "stdout",
     "output_type": "stream",
     "text": [
      "11\n"
     ]
    }
   ],
   "source": [
    "# Finding the length of string\n",
    "print(len(my_string))"
   ]
  },
  {
   "cell_type": "code",
   "execution_count": 15,
   "id": "7b0f4234",
   "metadata": {},
   "outputs": [
    {
     "data": {
      "text/plain": [
       "'hello world'"
      ]
     },
     "execution_count": 15,
     "metadata": {},
     "output_type": "execute_result"
    }
   ],
   "source": [
    "# Converting string to lower case\n",
    "my_string.lower()"
   ]
  },
  {
   "cell_type": "code",
   "execution_count": 16,
   "id": "6c1871e2",
   "metadata": {},
   "outputs": [
    {
     "data": {
      "text/plain": [
       "'HELLO WORLD'"
      ]
     },
     "execution_count": 16,
     "metadata": {},
     "output_type": "execute_result"
    }
   ],
   "source": [
    "# Converting string to upper case\n",
    "my_string.upper()"
   ]
  },
  {
   "cell_type": "code",
   "execution_count": 17,
   "id": "2ff6f7c6",
   "metadata": {},
   "outputs": [
    {
     "data": {
      "text/plain": [
       "'Iello World'"
      ]
     },
     "execution_count": 17,
     "metadata": {},
     "output_type": "execute_result"
    }
   ],
   "source": [
    "# Replacing a substring \n",
    "my_string.replace('H','I')"
   ]
  },
  {
   "cell_type": "code",
   "execution_count": 18,
   "id": "b92dbdd5",
   "metadata": {},
   "outputs": [
    {
     "data": {
      "text/plain": [
       "3"
      ]
     },
     "execution_count": 18,
     "metadata": {},
     "output_type": "execute_result"
    }
   ],
   "source": [
    "# Number of occurence of substring\n",
    "my_string.count('l')"
   ]
  },
  {
   "cell_type": "code",
   "execution_count": 20,
   "id": "1e644cbb",
   "metadata": {},
   "outputs": [
    {
     "data": {
      "text/plain": [
       "2"
      ]
     },
     "execution_count": 20,
     "metadata": {},
     "output_type": "execute_result"
    }
   ],
   "source": [
    "# Finding the index of substring\n",
    "s1 = \"This is Python\"\n",
    "s1.find('is')"
   ]
  },
  {
   "cell_type": "code",
   "execution_count": 22,
   "id": "3a268b40",
   "metadata": {},
   "outputs": [
    {
     "data": {
      "text/plain": [
       "['I like coding', 'cricket and biking']"
      ]
     },
     "execution_count": 22,
     "metadata": {},
     "output_type": "execute_result"
    }
   ],
   "source": [
    "# Splitting a string\n",
    "hobby = \"I like coding,cricket and biking\"\n",
    "hobby.split(',')"
   ]
  },
  {
   "cell_type": "code",
   "execution_count": 23,
   "id": "02221951",
   "metadata": {},
   "outputs": [],
   "source": [
    "# Data structures in python\n",
    "#Tuple List Dictionary Set"
   ]
  },
  {
   "cell_type": "code",
   "execution_count": 25,
   "id": "c88aab72",
   "metadata": {},
   "outputs": [
    {
     "name": "stdout",
     "output_type": "stream",
     "text": [
      "(1, 'Hi', True)\n",
      "<class 'tuple'>\n"
     ]
    },
    {
     "data": {
      "text/plain": [
       "1"
      ]
     },
     "execution_count": 25,
     "metadata": {},
     "output_type": "execute_result"
    }
   ],
   "source": [
    "# Tuple is an ordered collection of elements enclosed within ()\n",
    "# Tuples are immutable\n",
    "tup = (1,\"Hi\",True)\n",
    "print(tup)\n",
    "print(type(tup))\n",
    "tup[0]"
   ]
  },
  {
   "cell_type": "code",
   "execution_count": 26,
   "id": "f7dd00c1",
   "metadata": {},
   "outputs": [
    {
     "data": {
      "text/plain": [
       "3"
      ]
     },
     "execution_count": 26,
     "metadata": {},
     "output_type": "execute_result"
    }
   ],
   "source": [
    "# Finding the length of tuple\n",
    "len(tup)"
   ]
  },
  {
   "cell_type": "code",
   "execution_count": 27,
   "id": "876d53a6",
   "metadata": {},
   "outputs": [
    {
     "name": "stdout",
     "output_type": "stream",
     "text": [
      "(1, 'Hi', True, 2, 'Bye', False)\n"
     ]
    }
   ],
   "source": [
    "# Concatenating tuple\n",
    "tup1 = (2,\"Bye\",False)\n",
    "print(tup+tup1)"
   ]
  },
  {
   "cell_type": "code",
   "execution_count": 29,
   "id": "03a1586e",
   "metadata": {},
   "outputs": [
    {
     "name": "stdout",
     "output_type": "stream",
     "text": [
      "(1, 'Hi', True, 1, 'Hi', True, 1, 'Hi', True)\n"
     ]
    }
   ],
   "source": [
    "# Repeating tuple elements\n",
    "print(tup*3)"
   ]
  },
  {
   "cell_type": "code",
   "execution_count": 30,
   "id": "954523e0",
   "metadata": {},
   "outputs": [
    {
     "data": {
      "text/plain": [
       "9"
      ]
     },
     "execution_count": 30,
     "metadata": {},
     "output_type": "execute_result"
    }
   ],
   "source": [
    "# Finding minimum and maximum in tuple\n",
    "tup = (1,5,9)\n",
    "min(tup)\n",
    "max(tup)"
   ]
  },
  {
   "cell_type": "code",
   "execution_count": 35,
   "id": "13250099",
   "metadata": {},
   "outputs": [],
   "source": [
    "# List in Python : List is an ordered collection in Python enclosed within []\n",
    "# Lists are mutable\n",
    "l1 = [1,\"a\",\"True\",4.5]"
   ]
  },
  {
   "cell_type": "code",
   "execution_count": 36,
   "id": "bf5a320e",
   "metadata": {},
   "outputs": [
    {
     "data": {
      "text/plain": [
       "1"
      ]
     },
     "execution_count": 36,
     "metadata": {},
     "output_type": "execute_result"
    }
   ],
   "source": [
    "# Lets extract the individual element\n",
    "l1[0]"
   ]
  },
  {
   "cell_type": "code",
   "execution_count": 37,
   "id": "e145d805",
   "metadata": {},
   "outputs": [
    {
     "data": {
      "text/plain": [
       "['True', 4.5]"
      ]
     },
     "execution_count": 37,
     "metadata": {},
     "output_type": "execute_result"
    }
   ],
   "source": [
    "# Lets extract the multiple elements\n",
    "l1[2:5]"
   ]
  },
  {
   "cell_type": "code",
   "execution_count": 38,
   "id": "b2059fd1",
   "metadata": {},
   "outputs": [],
   "source": [
    "# Modifying a list\n",
    "# changing the element at 0th index\n",
    "l1[0] = 100"
   ]
  },
  {
   "cell_type": "code",
   "execution_count": 39,
   "id": "03077725",
   "metadata": {},
   "outputs": [
    {
     "data": {
      "text/plain": [
       "[100, 'a', 'True', 4.5]"
      ]
     },
     "execution_count": 39,
     "metadata": {},
     "output_type": "execute_result"
    }
   ],
   "source": [
    "l1"
   ]
  },
  {
   "cell_type": "code",
   "execution_count": 40,
   "id": "dff9f460",
   "metadata": {},
   "outputs": [],
   "source": [
    "# appending an element to a list\n",
    "l1.append(5)"
   ]
  },
  {
   "cell_type": "code",
   "execution_count": 41,
   "id": "e591124f",
   "metadata": {},
   "outputs": [
    {
     "data": {
      "text/plain": [
       "[100, 'a', 'True', 4.5, 5]"
      ]
     },
     "execution_count": 41,
     "metadata": {},
     "output_type": "execute_result"
    }
   ],
   "source": [
    "l1"
   ]
  },
  {
   "cell_type": "code",
   "execution_count": 42,
   "id": "047d4780",
   "metadata": {},
   "outputs": [
    {
     "data": {
      "text/plain": [
       "5"
      ]
     },
     "execution_count": 42,
     "metadata": {},
     "output_type": "execute_result"
    }
   ],
   "source": [
    "# Lets pop the last element\n",
    "l1.pop()"
   ]
  },
  {
   "cell_type": "code",
   "execution_count": 43,
   "id": "79c38dcb",
   "metadata": {},
   "outputs": [
    {
     "data": {
      "text/plain": [
       "[100, 'a', 'True', 4.5]"
      ]
     },
     "execution_count": 43,
     "metadata": {},
     "output_type": "execute_result"
    }
   ],
   "source": [
    "l1"
   ]
  },
  {
   "cell_type": "code",
   "execution_count": 44,
   "id": "bcdff3e2",
   "metadata": {},
   "outputs": [],
   "source": [
    "# reversing the elements of list\n",
    "l1.reverse()"
   ]
  },
  {
   "cell_type": "code",
   "execution_count": 45,
   "id": "e12d2112",
   "metadata": {},
   "outputs": [
    {
     "data": {
      "text/plain": [
       "[4.5, 'True', 'a', 100]"
      ]
     },
     "execution_count": 45,
     "metadata": {},
     "output_type": "execute_result"
    }
   ],
   "source": [
    "l1"
   ]
  },
  {
   "cell_type": "code",
   "execution_count": 46,
   "id": "d5645a4e",
   "metadata": {},
   "outputs": [],
   "source": [
    "# Inserting the element at specified index\n",
    "l1.insert(1,\"Saurav\")"
   ]
  },
  {
   "cell_type": "code",
   "execution_count": 47,
   "id": "17435f68",
   "metadata": {},
   "outputs": [
    {
     "data": {
      "text/plain": [
       "[4.5, 'Saurav', 'True', 'a', 100]"
      ]
     },
     "execution_count": 47,
     "metadata": {},
     "output_type": "execute_result"
    }
   ],
   "source": [
    "l1"
   ]
  },
  {
   "cell_type": "code",
   "execution_count": 49,
   "id": "39fae901",
   "metadata": {},
   "outputs": [],
   "source": [
    "# Sorting a list\n",
    "l2 = [\"apple\",\"pineapple\",\"banana\",\"orange\"]\n",
    "l2.sort()"
   ]
  },
  {
   "cell_type": "code",
   "execution_count": 50,
   "id": "cf84f935",
   "metadata": {},
   "outputs": [
    {
     "data": {
      "text/plain": [
       "['apple', 'banana', 'orange', 'pineapple']"
      ]
     },
     "execution_count": 50,
     "metadata": {},
     "output_type": "execute_result"
    }
   ],
   "source": [
    "l2"
   ]
  },
  {
   "cell_type": "code",
   "execution_count": 51,
   "id": "dc397623",
   "metadata": {},
   "outputs": [
    {
     "data": {
      "text/plain": [
       "[1, 2, 3, 'Hi', 'Hello', 'How']"
      ]
     },
     "execution_count": 51,
     "metadata": {},
     "output_type": "execute_result"
    }
   ],
   "source": [
    "# Basic operations of list\n",
    "l1 = [1,2,3]\n",
    "l2 = [\"Hi\",\"Hello\",\"How\"]\n",
    "l1+l2"
   ]
  },
  {
   "cell_type": "code",
   "execution_count": 52,
   "id": "32227999",
   "metadata": {},
   "outputs": [
    {
     "data": {
      "text/plain": [
       "['Hi', 'Hello', 'How', 'Hi', 'Hello', 'How', 'Hi', 'Hello', 'How']"
      ]
     },
     "execution_count": 52,
     "metadata": {},
     "output_type": "execute_result"
    }
   ],
   "source": [
    "# Lets repeat the list elements\n",
    "l1 = [\"Hi\",\"Hello\",\"How\"]\n",
    "l1*3"
   ]
  },
  {
   "cell_type": "code",
   "execution_count": 53,
   "id": "75a7dfd3",
   "metadata": {},
   "outputs": [
    {
     "data": {
      "text/plain": [
       "dict"
      ]
     },
     "execution_count": 53,
     "metadata": {},
     "output_type": "execute_result"
    }
   ],
   "source": [
    "# Dictionary in Python : Dictionary is an unordered collection of key-value pairs enclosed with {}\n",
    "# Dictionary is mutable\n",
    "d1 ={\"Apple\":50,\"Mango\":100,\"Guava\":100,\"Banana\":10}\n",
    "type(d1)"
   ]
  },
  {
   "cell_type": "code",
   "execution_count": 56,
   "id": "938af939",
   "metadata": {},
   "outputs": [
    {
     "name": "stdout",
     "output_type": "stream",
     "text": [
      "dict_keys(['Apple', 'Mango', 'Guava', 'Banana'])\n",
      "dict_values([50, 100, 100, 10])\n"
     ]
    }
   ],
   "source": [
    "# Extracting keys and values\n",
    "print(d1.keys())\n",
    "print(d1.values())"
   ]
  },
  {
   "cell_type": "code",
   "execution_count": 57,
   "id": "7e256f10",
   "metadata": {},
   "outputs": [],
   "source": [
    "# Modifying a dictionary\n",
    "# Adding a new element\n",
    "d1[\"mango\"]=70"
   ]
  },
  {
   "cell_type": "code",
   "execution_count": 58,
   "id": "a9b07739",
   "metadata": {},
   "outputs": [
    {
     "data": {
      "text/plain": [
       "{'Apple': 50, 'Mango': 100, 'Guava': 100, 'Banana': 10, 'mango': 70}"
      ]
     },
     "execution_count": 58,
     "metadata": {},
     "output_type": "execute_result"
    }
   ],
   "source": [
    "d1"
   ]
  },
  {
   "cell_type": "code",
   "execution_count": 59,
   "id": "48e33a35",
   "metadata": {},
   "outputs": [],
   "source": [
    "# Changing the value of an existing element\n",
    "d1[\"Apple\"]=200"
   ]
  },
  {
   "cell_type": "code",
   "execution_count": 60,
   "id": "143b8983",
   "metadata": {},
   "outputs": [
    {
     "data": {
      "text/plain": [
       "{'Apple': 200, 'Mango': 100, 'Guava': 100, 'Banana': 10, 'mango': 70}"
      ]
     },
     "execution_count": 60,
     "metadata": {},
     "output_type": "execute_result"
    }
   ],
   "source": [
    "d1"
   ]
  },
  {
   "cell_type": "code",
   "execution_count": 61,
   "id": "151790a8",
   "metadata": {},
   "outputs": [],
   "source": [
    "# Lets update one dictionary's records with anothers\n",
    "dict1 = {\"Apple\":50,\"Banana\":80}\n",
    "dict2 = {\"Mango\":40,\"Guava\":90}\n",
    "dict1.update(dict2)"
   ]
  },
  {
   "cell_type": "code",
   "execution_count": 62,
   "id": "30e85cb8",
   "metadata": {},
   "outputs": [
    {
     "name": "stdout",
     "output_type": "stream",
     "text": [
      "{'Apple': 50, 'Banana': 80, 'Mango': 40, 'Guava': 90}\n"
     ]
    }
   ],
   "source": [
    "print(dict1)"
   ]
  },
  {
   "cell_type": "code",
   "execution_count": 63,
   "id": "b4d7d2f2",
   "metadata": {},
   "outputs": [],
   "source": [
    "dict1 = {\"Apple\":50,\"Banana\":80}\n",
    "dict2 = {\"Mango\":40,\"Apple\":90}\n",
    "dict1.update(dict2)"
   ]
  },
  {
   "cell_type": "code",
   "execution_count": 64,
   "id": "5e929975",
   "metadata": {},
   "outputs": [
    {
     "data": {
      "text/plain": [
       "{'Apple': 90, 'Banana': 80, 'Mango': 40}"
      ]
     },
     "execution_count": 64,
     "metadata": {},
     "output_type": "execute_result"
    }
   ],
   "source": [
    "dict1"
   ]
  },
  {
   "cell_type": "code",
   "execution_count": 66,
   "id": "778e2e68",
   "metadata": {},
   "outputs": [
    {
     "data": {
      "text/plain": [
       "70"
      ]
     },
     "execution_count": 66,
     "metadata": {},
     "output_type": "execute_result"
    }
   ],
   "source": [
    "# Lets pop last element of a dictionary\n",
    "d1.pop(\"mango\")"
   ]
  },
  {
   "cell_type": "code",
   "execution_count": 67,
   "id": "352bac2c",
   "metadata": {},
   "outputs": [
    {
     "data": {
      "text/plain": [
       "{'Apple': 200, 'Mango': 100, 'Guava': 100, 'Banana': 10}"
      ]
     },
     "execution_count": 67,
     "metadata": {},
     "output_type": "execute_result"
    }
   ],
   "source": [
    "d1"
   ]
  },
  {
   "cell_type": "code",
   "execution_count": 68,
   "id": "63355623",
   "metadata": {},
   "outputs": [],
   "source": [
    "# Set in Python : Set is an unordered and unindexed collection of elements enclosed with {}\n",
    "# Duplicates are not allowed in sets\n",
    "s1 = {1,True,\"Hi\",4.5}"
   ]
  },
  {
   "cell_type": "code",
   "execution_count": 69,
   "id": "a4a8cca0",
   "metadata": {},
   "outputs": [],
   "source": [
    "# Update one set element with another\n",
    "s1.add(\"Hello\")"
   ]
  },
  {
   "cell_type": "code",
   "execution_count": 70,
   "id": "f62ea885",
   "metadata": {},
   "outputs": [
    {
     "data": {
      "text/plain": [
       "{1, 4.5, 'Hello', 'Hi'}"
      ]
     },
     "execution_count": 70,
     "metadata": {},
     "output_type": "execute_result"
    }
   ],
   "source": [
    "s1"
   ]
  },
  {
   "cell_type": "code",
   "execution_count": 71,
   "id": "8bfb9383",
   "metadata": {},
   "outputs": [],
   "source": [
    "# Updating multiple element\n",
    "s1.update([10,20,30])"
   ]
  },
  {
   "cell_type": "code",
   "execution_count": 72,
   "id": "367cd686",
   "metadata": {},
   "outputs": [
    {
     "data": {
      "text/plain": [
       "{1, 10, 20, 30, 4.5, 'Hello', 'Hi'}"
      ]
     },
     "execution_count": 72,
     "metadata": {},
     "output_type": "execute_result"
    }
   ],
   "source": [
    "s1"
   ]
  },
  {
   "cell_type": "code",
   "execution_count": 73,
   "id": "26be62da",
   "metadata": {},
   "outputs": [],
   "source": [
    "# Removing an element\n",
    "s1.remove(\"Hi\")"
   ]
  },
  {
   "cell_type": "code",
   "execution_count": 74,
   "id": "af70ee8f",
   "metadata": {},
   "outputs": [
    {
     "data": {
      "text/plain": [
       "{1, 10, 20, 30, 4.5, 'Hello'}"
      ]
     },
     "execution_count": 74,
     "metadata": {},
     "output_type": "execute_result"
    }
   ],
   "source": [
    "s1"
   ]
  },
  {
   "cell_type": "code",
   "execution_count": 75,
   "id": "a9f9ec06",
   "metadata": {},
   "outputs": [
    {
     "data": {
      "text/plain": [
       "{1, 2, 3, 'a', 'b', 'c'}"
      ]
     },
     "execution_count": 75,
     "metadata": {},
     "output_type": "execute_result"
    }
   ],
   "source": [
    "# Set functions \n",
    "# Union of two sets\n",
    "s1 = {1,2,3}\n",
    "s2 = {\"a\",\"b\",\"c\"}\n",
    "s1.union(s2)"
   ]
  },
  {
   "cell_type": "code",
   "execution_count": 76,
   "id": "c50daf18",
   "metadata": {},
   "outputs": [
    {
     "data": {
      "text/plain": [
       "{'a'}"
      ]
     },
     "execution_count": 76,
     "metadata": {},
     "output_type": "execute_result"
    }
   ],
   "source": [
    "# Intersection of two sets \n",
    "s1 = {\"a\",\"b\",\"c\"}\n",
    "s2 = {\"p\",\"a\",\"r\"}\n",
    "s1.intersection(s2)"
   ]
  },
  {
   "cell_type": "code",
   "execution_count": 78,
   "id": "a06ff35f",
   "metadata": {},
   "outputs": [
    {
     "name": "stdout",
     "output_type": "stream",
     "text": [
      "b is greater than a\n"
     ]
    }
   ],
   "source": [
    "# If statement\n",
    "a = 10\n",
    "b = 20\n",
    "if a>b:\n",
    "    print(\"a is greater than b\")\n",
    "else:\n",
    "    print(\"b is greater than a\")"
   ]
  },
  {
   "cell_type": "code",
   "execution_count": 81,
   "id": "f53b6b19",
   "metadata": {},
   "outputs": [
    {
     "name": "stdout",
     "output_type": "stream",
     "text": [
      "c is greater than a and b\n"
     ]
    }
   ],
   "source": [
    "# elif\n",
    "c= 30\n",
    "if (a>b) & (a>c):\n",
    "    print(\"a is greater than c and b\")\n",
    "elif (b>a) & (b>c):\n",
    "    print(\"b is greater than a and c\")\n",
    "else:\n",
    "    print(\"c is greater than a and b\")"
   ]
  },
  {
   "cell_type": "code",
   "execution_count": 82,
   "id": "2485e48d",
   "metadata": {},
   "outputs": [
    {
     "name": "stdout",
     "output_type": "stream",
     "text": [
      "Value is present in tuple\n"
     ]
    }
   ],
   "source": [
    "# if with tuple\n",
    "tup1 = (1,2,3)\n",
    "if 1 in tup1:\n",
    "    print(\"Value is present in tuple\")"
   ]
  },
  {
   "cell_type": "code",
   "execution_count": 83,
   "id": "cfbf5afe",
   "metadata": {},
   "outputs": [
    {
     "name": "stdout",
     "output_type": "stream",
     "text": [
      "Value is present in list\n"
     ]
    }
   ],
   "source": [
    "# if with list\n",
    "l1 = [\"a\",\"b\",\"c\"]\n",
    "if \"a\" in l1:\n",
    "    print(\"Value is present in list\")"
   ]
  },
  {
   "cell_type": "code",
   "execution_count": 85,
   "id": "87fc3285",
   "metadata": {},
   "outputs": [],
   "source": [
    "# if with dictionary\n",
    "d1 = {\"k1\":10,\"k2\":20,\"k3\":30}\n",
    "if d1[\"k3\"] == 30:\n",
    "    d1[\"k3\"] = d1[\"k3\"]+100"
   ]
  },
  {
   "cell_type": "code",
   "execution_count": 86,
   "id": "c15ac67a",
   "metadata": {},
   "outputs": [
    {
     "data": {
      "text/plain": [
       "{'k1': 10, 'k2': 20, 'k3': 130}"
      ]
     },
     "execution_count": 86,
     "metadata": {},
     "output_type": "execute_result"
    }
   ],
   "source": [
    "d1"
   ]
  },
  {
   "cell_type": "code",
   "execution_count": 2,
   "id": "4c8146dd",
   "metadata": {},
   "outputs": [
    {
     "name": "stdout",
     "output_type": "stream",
     "text": [
      "1\n",
      "2\n",
      "3\n",
      "4\n",
      "5\n",
      "6\n",
      "7\n",
      "8\n",
      "9\n",
      "10\n"
     ]
    }
   ],
   "source": [
    "# Looping statements\n",
    "# While loop:\n",
    "i = 1\n",
    "while i<=10:\n",
    "    print(i)\n",
    "    i = i+1"
   ]
  },
  {
   "cell_type": "code",
   "execution_count": 4,
   "id": "42a0a982",
   "metadata": {},
   "outputs": [
    {
     "name": "stdout",
     "output_type": "stream",
     "text": [
      "5  *  1  =  5\n",
      "5  *  2  =  10\n",
      "5  *  3  =  15\n",
      "5  *  4  =  20\n",
      "5  *  5  =  25\n",
      "5  *  6  =  30\n",
      "5  *  7  =  35\n",
      "5  *  8  =  40\n",
      "5  *  9  =  45\n",
      "5  *  10  =  50\n"
     ]
    }
   ],
   "source": [
    "# Lets print the table of 5 using while loop\n",
    "i = 1\n",
    "n = 5\n",
    "while i<=10:\n",
    "    print(n,\" * \",i,\" = \",n*i)\n",
    "    i = i+1"
   ]
  },
  {
   "cell_type": "code",
   "execution_count": 5,
   "id": "0f9f28b3",
   "metadata": {},
   "outputs": [
    {
     "data": {
      "text/plain": [
       "5"
      ]
     },
     "execution_count": 5,
     "metadata": {},
     "output_type": "execute_result"
    }
   ],
   "source": [
    "# While with list\n",
    "# Lets add 100 to each element of the list\n",
    "l1 = [1,2,3,4,5]\n",
    "i = len(l1)\n",
    "i"
   ]
  },
  {
   "cell_type": "code",
   "execution_count": 7,
   "id": "a8d51ee9",
   "metadata": {},
   "outputs": [],
   "source": [
    "j = 0\n",
    "while j<i:\n",
    "    l1[j] = l1[j]+100\n",
    "    j = j+1"
   ]
  },
  {
   "cell_type": "code",
   "execution_count": 8,
   "id": "8900b2f8",
   "metadata": {},
   "outputs": [
    {
     "data": {
      "text/plain": [
       "[101, 102, 103, 104, 105]"
      ]
     },
     "execution_count": 8,
     "metadata": {},
     "output_type": "execute_result"
    }
   ],
   "source": [
    "l1"
   ]
  },
  {
   "cell_type": "code",
   "execution_count": 9,
   "id": "6b2259f3",
   "metadata": {},
   "outputs": [
    {
     "data": {
      "text/plain": [
       "1"
      ]
     },
     "execution_count": 9,
     "metadata": {},
     "output_type": "execute_result"
    }
   ],
   "source": [
    "# For loop \n",
    "1"
   ]
  },
  {
   "cell_type": "code",
   "execution_count": 18,
   "id": "d3978abd",
   "metadata": {},
   "outputs": [
    {
     "name": "stdout",
     "output_type": "stream",
     "text": [
      "1\n",
      "22\n",
      "333\n",
      "4444\n",
      "55555\n"
     ]
    }
   ],
   "source": [
    "# Problem statement : Print the pattern\n",
    "#1\n",
    "#22\n",
    "#333\n",
    "#4444\n",
    "#55555\n",
    "\n",
    "for i in range(1,6):\n",
    "    for j in range(1,6):\n",
    "        print(i,end='')\n",
    "        if(j==i):\n",
    "            break\n",
    "    print(end='\\n')"
   ]
  },
  {
   "cell_type": "code",
   "execution_count": 19,
   "id": "99abdb90",
   "metadata": {},
   "outputs": [
    {
     "data": {
      "text/plain": [
       "[101, 102, 103, 104, 105]"
      ]
     },
     "execution_count": 19,
     "metadata": {},
     "output_type": "execute_result"
    }
   ],
   "source": [
    "# Lets continue the for loop\n",
    "l1"
   ]
  },
  {
   "cell_type": "code",
   "execution_count": 20,
   "id": "9cf340b3",
   "metadata": {},
   "outputs": [
    {
     "name": "stdout",
     "output_type": "stream",
     "text": [
      "101\n",
      "102\n",
      "103\n",
      "104\n",
      "105\n"
     ]
    }
   ],
   "source": [
    "for i in l1:\n",
    "    print(i)"
   ]
  },
  {
   "cell_type": "code",
   "execution_count": 21,
   "id": "f5906aea",
   "metadata": {},
   "outputs": [
    {
     "name": "stdout",
     "output_type": "stream",
     "text": [
      "mango chair\n",
      "mango pen\n",
      "mango table\n",
      "banana chair\n",
      "banana pen\n",
      "banana table\n",
      "orange chair\n",
      "orange pen\n",
      "orange table\n"
     ]
    }
   ],
   "source": [
    "# Nested for loop\n",
    "l1 = [\"mango\",\"banana\",\"orange\"]\n",
    "l2 = [\"chair\",\"pen\",\"table\"]\n",
    "for i in l1:\n",
    "    for j in l2:\n",
    "        print(i,j)"
   ]
  },
  {
   "cell_type": "code",
   "execution_count": 22,
   "id": "391ade64",
   "metadata": {},
   "outputs": [],
   "source": [
    "# Functions in real life : eating running cycling\n",
    "# Python functions : Function is block of code which performs particular task\n",
    "# Deposit Withdraw Balance\n",
    "def Hello():\n",
    "    print(\"Hello World!\")"
   ]
  },
  {
   "cell_type": "code",
   "execution_count": 24,
   "id": "f3e9d232",
   "metadata": {},
   "outputs": [
    {
     "name": "stdout",
     "output_type": "stream",
     "text": [
      "Hello World!\n"
     ]
    }
   ],
   "source": [
    "# Function invoking\n",
    "Hello()"
   ]
  },
  {
   "cell_type": "code",
   "execution_count": 25,
   "id": "72457f09",
   "metadata": {},
   "outputs": [],
   "source": [
    "# function with parameter\n",
    "def add_10(x):\n",
    "    print(10+x)"
   ]
  },
  {
   "cell_type": "code",
   "execution_count": 26,
   "id": "de58cbc3",
   "metadata": {},
   "outputs": [
    {
     "name": "stdout",
     "output_type": "stream",
     "text": [
      "15\n"
     ]
    }
   ],
   "source": [
    "add_10(5)"
   ]
  },
  {
   "cell_type": "code",
   "execution_count": 27,
   "id": "f7da52e7",
   "metadata": {},
   "outputs": [],
   "source": [
    "# Problem statement : Write a function to check whether a number is even or odd\n",
    "def even_odd(x):\n",
    "    if x%2==0:\n",
    "        print(\"Even\")\n",
    "    else:\n",
    "        print(\"Odd\")"
   ]
  },
  {
   "cell_type": "code",
   "execution_count": 28,
   "id": "36505324",
   "metadata": {},
   "outputs": [
    {
     "name": "stdout",
     "output_type": "stream",
     "text": [
      "Even\n"
     ]
    }
   ],
   "source": [
    "even_odd(2)"
   ]
  },
  {
   "cell_type": "code",
   "execution_count": 29,
   "id": "eb4f6942",
   "metadata": {},
   "outputs": [
    {
     "data": {
      "text/plain": [
       "343"
      ]
     },
     "execution_count": 29,
     "metadata": {},
     "output_type": "execute_result"
    }
   ],
   "source": [
    "# Lambda function\n",
    "# Also called as anonymous function\n",
    "a = lambda x: x*x*x\n",
    "a(7)"
   ]
  },
  {
   "cell_type": "code",
   "execution_count": 31,
   "id": "9d96038f",
   "metadata": {},
   "outputs": [],
   "source": [
    "# lambda with filter\n",
    "l1 = [12,14,34,56,71,13]\n",
    "final_list = list(filter(lambda x : (x%2!=0),l1))"
   ]
  },
  {
   "cell_type": "code",
   "execution_count": 32,
   "id": "be13384f",
   "metadata": {},
   "outputs": [
    {
     "data": {
      "text/plain": [
       "[71, 13]"
      ]
     },
     "execution_count": 32,
     "metadata": {},
     "output_type": "execute_result"
    }
   ],
   "source": [
    "final_list"
   ]
  },
  {
   "cell_type": "code",
   "execution_count": 34,
   "id": "395676aa",
   "metadata": {},
   "outputs": [],
   "source": [
    "# lambda with map\n",
    "l1 = [1,2,3,4,5,6]\n",
    "final_list=list(map(lambda x: x*2,l1))"
   ]
  },
  {
   "cell_type": "code",
   "execution_count": 35,
   "id": "5ede4f16",
   "metadata": {},
   "outputs": [
    {
     "data": {
      "text/plain": [
       "[2, 4, 6, 8, 10, 12]"
      ]
     },
     "execution_count": 35,
     "metadata": {},
     "output_type": "execute_result"
    }
   ],
   "source": [
    "final_list"
   ]
  },
  {
   "cell_type": "code",
   "execution_count": 37,
   "id": "24317a36",
   "metadata": {},
   "outputs": [],
   "source": [
    "from functools import reduce\n",
    "sum = reduce(lambda x,y:x+y,l1)"
   ]
  },
  {
   "cell_type": "code",
   "execution_count": 38,
   "id": "9807180d",
   "metadata": {},
   "outputs": [
    {
     "data": {
      "text/plain": [
       "21"
      ]
     },
     "execution_count": 38,
     "metadata": {},
     "output_type": "execute_result"
    }
   ],
   "source": [
    "sum"
   ]
  },
  {
   "cell_type": "code",
   "execution_count": 39,
   "id": "9c07c4b9",
   "metadata": {},
   "outputs": [],
   "source": [
    "# Python object oriented programming\n",
    "# Everything around is object\n",
    "# Realworld entities to programming\n",
    "# Classes: Template or Blueprint for real world entity\n",
    "# Object : Class have properties and behaviour : Object is specific instance of class\n",
    "# Class is user defined datatype\n",
    "# properties are attribute\n",
    "# behaviour is method"
   ]
  },
  {
   "cell_type": "code",
   "execution_count": 43,
   "id": "9a11ed25",
   "metadata": {},
   "outputs": [],
   "source": [
    "# Creating the first class\n",
    "# Creating class name = phone\n",
    "class Phone:\n",
    "    def make_call(self):\n",
    "        print(\"Making phone call\")\n",
    "    def play_game(self):\n",
    "        print(\"Playing game\")"
   ]
  },
  {
   "cell_type": "code",
   "execution_count": 44,
   "id": "bcbc9833",
   "metadata": {},
   "outputs": [],
   "source": [
    "#Instantiating the 'p1' object\n",
    "p1 = Phone()"
   ]
  },
  {
   "cell_type": "code",
   "execution_count": 45,
   "id": "aadd20bb",
   "metadata": {},
   "outputs": [
    {
     "name": "stdout",
     "output_type": "stream",
     "text": [
      "Making phone call\n"
     ]
    }
   ],
   "source": [
    "p1.make_call()"
   ]
  },
  {
   "cell_type": "code",
   "execution_count": 46,
   "id": "f0082a68",
   "metadata": {},
   "outputs": [
    {
     "name": "stdout",
     "output_type": "stream",
     "text": [
      "Playing game\n"
     ]
    }
   ],
   "source": [
    "p1.play_game()"
   ]
  },
  {
   "cell_type": "code",
   "execution_count": 47,
   "id": "348ac4f1",
   "metadata": {},
   "outputs": [],
   "source": [
    "# Adding parameter to class\n",
    "class Phone:\n",
    "    def set_color(self,color):\n",
    "        self.color = color\n",
    "    def set_cost(self,cost):\n",
    "        self.cost = cost\n",
    "    def show_color(self):\n",
    "        return self.color\n",
    "    def show_cost(self):\n",
    "        return self.cost\n",
    "    "
   ]
  },
  {
   "cell_type": "code",
   "execution_count": 48,
   "id": "4c856c12",
   "metadata": {},
   "outputs": [],
   "source": [
    "p2 = Phone()"
   ]
  },
  {
   "cell_type": "code",
   "execution_count": 49,
   "id": "183fa247",
   "metadata": {},
   "outputs": [],
   "source": [
    "p2.set_color(\"Yellow\")"
   ]
  },
  {
   "cell_type": "code",
   "execution_count": 51,
   "id": "ff4ba624",
   "metadata": {},
   "outputs": [],
   "source": [
    "p2.set_cost(500)"
   ]
  },
  {
   "cell_type": "code",
   "execution_count": 53,
   "id": "9369dbd7",
   "metadata": {},
   "outputs": [
    {
     "data": {
      "text/plain": [
       "'Yellow'"
      ]
     },
     "execution_count": 53,
     "metadata": {},
     "output_type": "execute_result"
    }
   ],
   "source": [
    "p2.show_color()"
   ]
  },
  {
   "cell_type": "code",
   "execution_count": 54,
   "id": "b55e98c2",
   "metadata": {},
   "outputs": [
    {
     "data": {
      "text/plain": [
       "500"
      ]
     },
     "execution_count": 54,
     "metadata": {},
     "output_type": "execute_result"
    }
   ],
   "source": [
    "p2.show_cost()"
   ]
  },
  {
   "cell_type": "code",
   "execution_count": 55,
   "id": "f38a039f",
   "metadata": {},
   "outputs": [],
   "source": [
    "# Creating class with constructor\n",
    "class Employee:\n",
    "    def __init__(self,name,age,salary,gender):\n",
    "        self.name = name\n",
    "        self.age = age\n",
    "        self.salary = salary\n",
    "        self.gender = gender\n",
    "    def employee_details(self):\n",
    "        print(\"Name of Employee is :\",self.name)\n",
    "        print(\"Age of Employee is :\",self.age)\n",
    "        print(\"Salary of Employee is :\",self.salary)\n",
    "        print(\"Gender of Employee is :\",self.gender)"
   ]
  },
  {
   "cell_type": "code",
   "execution_count": 57,
   "id": "660e7896",
   "metadata": {},
   "outputs": [
    {
     "name": "stdout",
     "output_type": "stream",
     "text": [
      "Name of Employee is : Sam\n",
      "Age of Employee is : 32\n",
      "Salary of Employee is : 85000\n",
      "Gender of Employee is : Male\n"
     ]
    }
   ],
   "source": [
    "e1 = Employee(\"Sam\",32,85000,\"Male\")\n",
    "e1.employee_details()"
   ]
  },
  {
   "cell_type": "code",
   "execution_count": 60,
   "id": "690b38f3",
   "metadata": {},
   "outputs": [],
   "source": [
    "# Inheritance in python\n",
    "class Vehicle: \n",
    "    def __init__(self,mileage,cost):\n",
    "        self.mileage = mileage\n",
    "        self.cost = cost\n",
    "    def show_details(self):\n",
    "        print(\"Mileage of the vehicle is :\",self.mileage)\n",
    "        print(\"Cost of the vehicle is :\",self.cost)"
   ]
  },
  {
   "cell_type": "code",
   "execution_count": 61,
   "id": "f516b399",
   "metadata": {},
   "outputs": [],
   "source": [
    "v1 = Vehicle(45,5000)"
   ]
  },
  {
   "cell_type": "code",
   "execution_count": 62,
   "id": "9056a34c",
   "metadata": {},
   "outputs": [
    {
     "name": "stdout",
     "output_type": "stream",
     "text": [
      "Mileage of the vehicle is : 45\n",
      "Cost of the vehicle is : 5000\n"
     ]
    }
   ],
   "source": [
    "v1.show_details()"
   ]
  },
  {
   "cell_type": "code",
   "execution_count": 63,
   "id": "767d5c0f",
   "metadata": {},
   "outputs": [],
   "source": [
    "# Lets create child class of Vehicle\n",
    "class Car(Vehicle):\n",
    "    def show_car(self):\n",
    "        print(\"I am a car\")"
   ]
  },
  {
   "cell_type": "code",
   "execution_count": 64,
   "id": "0bbee485",
   "metadata": {},
   "outputs": [],
   "source": [
    "c = Car(50,500)"
   ]
  },
  {
   "cell_type": "code",
   "execution_count": 65,
   "id": "6c7c2fc0",
   "metadata": {},
   "outputs": [
    {
     "name": "stdout",
     "output_type": "stream",
     "text": [
      "I am a car\n"
     ]
    }
   ],
   "source": [
    "c.show_car()"
   ]
  },
  {
   "cell_type": "code",
   "execution_count": 66,
   "id": "7bf2a3db",
   "metadata": {},
   "outputs": [
    {
     "name": "stdout",
     "output_type": "stream",
     "text": [
      "Mileage of the vehicle is : 50\n",
      "Cost of the vehicle is : 500\n"
     ]
    }
   ],
   "source": [
    "c.show_details()"
   ]
  },
  {
   "cell_type": "code",
   "execution_count": 67,
   "id": "47dee1e6",
   "metadata": {},
   "outputs": [
    {
     "name": "stdout",
     "output_type": "stream",
     "text": [
      "Mileage of the vehicle is : 45\n",
      "Cost of the vehicle is : 5000\n"
     ]
    }
   ],
   "source": [
    "v1.show_details()"
   ]
  },
  {
   "cell_type": "code",
   "execution_count": 68,
   "id": "aa7aff62",
   "metadata": {},
   "outputs": [],
   "source": [
    "# Overriding init method\n",
    "class Car(Vehicle):\n",
    "    def __init__(self,mileage,cost,tyres,hp):\n",
    "        super().__init__(mileage,cost)\n",
    "        self.tyres = tyres\n",
    "        self.hp = hp\n",
    "    def show_car_details(self):\n",
    "        print(\"I am a car\")\n",
    "        print(\"Number of tyres are :\",self.tyres)\n",
    "        print(\"Value of Horse Power is :\",self.hp)"
   ]
  },
  {
   "cell_type": "code",
   "execution_count": 69,
   "id": "04156228",
   "metadata": {},
   "outputs": [],
   "source": [
    "c = Car(20,400,4,1000)"
   ]
  },
  {
   "cell_type": "code",
   "execution_count": 70,
   "id": "2dd30581",
   "metadata": {},
   "outputs": [
    {
     "name": "stdout",
     "output_type": "stream",
     "text": [
      "I am a car\n",
      "Number of tyres are : 4\n",
      "Value of Horse Power is : 1000\n"
     ]
    }
   ],
   "source": [
    "c.show_car_details()"
   ]
  },
  {
   "cell_type": "code",
   "execution_count": null,
   "id": "c3b14196",
   "metadata": {},
   "outputs": [],
   "source": []
  }
 ],
 "metadata": {
  "kernelspec": {
   "display_name": "Python 3 (ipykernel)",
   "language": "python",
   "name": "python3"
  },
  "language_info": {
   "codemirror_mode": {
    "name": "ipython",
    "version": 3
   },
   "file_extension": ".py",
   "mimetype": "text/x-python",
   "name": "python",
   "nbconvert_exporter": "python",
   "pygments_lexer": "ipython3",
   "version": "3.11.5"
  }
 },
 "nbformat": 4,
 "nbformat_minor": 5
}
